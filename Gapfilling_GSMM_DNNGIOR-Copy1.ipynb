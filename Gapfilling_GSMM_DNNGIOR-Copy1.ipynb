{
 "cells": [
  {
   "cell_type": "markdown",
   "id": "c840cf66",
   "metadata": {},
   "source": [
    "# **GAPFILLING A GENOME SCALE METABOLIC MODEL USING DNNGIOR**\n",
    "\n",
    "Short tutorial (adapted from Boer et al. 2024, see below) by Maria Carolina Sisco. "
   ]
  },
  {
   "cell_type": "markdown",
   "id": "bd8464c8",
   "metadata": {},
   "source": [
    "Improving genome-scale metabolic models of incomplete genomes with deep learning\n",
    "Boer et al. 2024. DOI: 10.1016/j.isci.2024.111349]"
   ]
  },
  {
   "cell_type": "markdown",
   "id": "5b721ab3",
   "metadata": {},
   "source": [
    "- DNNgior: Deep Neural Network Guided Imputation of Reactomes\n",
    "- GSMM: Genome Scale Metabolic Model \n",
    "- DNNgior uses AI to improve gap-filling by learning from the presence and absence of metabolic reactions across diverse bacterial genomes"
   ]
  },
  {
   "cell_type": "markdown",
   "id": "bca616e7",
   "metadata": {},
   "source": [
    "### **INSTALLATION** "
   ]
  },
  {
   "cell_type": "markdown",
   "id": "137ad1b4",
   "metadata": {},
   "source": [
    "<div class=\"alert alert-block alert-info\">\n",
    "First, we need a Gurobi license, a linear programming solver.\n",
    "1.Register at: https://www.gurobi.com/downloads/gurobi-software/\n",
    "2.Get a free academic named-user-license here: https://www.gurobi.com/features/academic-named-user-license/ \n",
    "(you will need an institutional email)"
   ]
  },
  {
   "cell_type": "code",
   "execution_count": null,
   "id": "5475cb32",
   "metadata": {},
   "outputs": [],
   "source": [
    "#!pip install -i https://pypi.gurobi.com gurobipy"
   ]
  },
  {
   "cell_type": "code",
   "execution_count": null,
   "id": "6e3889e5",
   "metadata": {},
   "outputs": [],
   "source": [
    "#!pip install dnngior"
   ]
  },
  {
   "cell_type": "markdown",
   "id": "8eb59550",
   "metadata": {},
   "source": [
    "## **GAPFILLING USING A COMPLETE MEDIUM**\n",
    "In this exercise we will gapfill (adding missing reactions) a GSMM of Blautia, a genus of anaerobic bacteria with probiotic characteristics."
   ]
  },
  {
   "cell_type": "markdown",
   "id": "c6fb5307",
   "metadata": {},
   "source": [
    "Let's explore the GSMM with some basic Cobrapy commands!"
   ]
  },
  {
   "cell_type": "code",
   "execution_count": null,
   "id": "2192006a",
   "metadata": {},
   "outputs": [],
   "source": [
    "import cobra\n",
    "from cobra.io import read_sbml_model\n",
    "draft_reconstruction = read_sbml_model('bh_ungapfilled_model.sbml')"
   ]
  },
  {
   "cell_type": "code",
   "execution_count": null,
   "id": "e9b0ce74",
   "metadata": {},
   "outputs": [],
   "source": [
    "draft_reconstruction.summary()"
   ]
  },
  {
   "cell_type": "markdown",
   "id": "ab993cd0",
   "metadata": {},
   "source": [
    "Notice the objective function (biomass=growth rate). Also, there are no fluxes."
   ]
  },
  {
   "cell_type": "code",
   "execution_count": null,
   "id": "efb67d95",
   "metadata": {},
   "outputs": [],
   "source": [
    "draft_reconstruction.optimize()"
   ]
  },
  {
   "cell_type": "code",
   "execution_count": null,
   "id": "4951ef79",
   "metadata": {},
   "outputs": [],
   "source": [
    "draft_reconstruction.medium"
   ]
  },
  {
   "cell_type": "markdown",
   "id": "70a8b37a",
   "metadata": {},
   "source": [
    "The exchange reactions (uptake reactions) are set to a unlimited value, there is no constraint regarding what the bacteria can take from the medium, but even so, our model can't simulate growth."
   ]
  },
  {
   "cell_type": "markdown",
   "id": "15e6b319",
   "metadata": {},
   "source": [
    "Let's start gapfilling our model!<br>\n",
    "Import the dnngior library and use the Gapfill class to gapfill the reconstruction"
   ]
  },
  {
   "cell_type": "code",
   "execution_count": null,
   "id": "d40cbf08",
   "metadata": {},
   "outputs": [],
   "source": [
    "import os, sys\n",
    "path_to_blautia_model = (\"bh_ungapfilled_model.sbml\")"
   ]
  },
  {
   "cell_type": "code",
   "execution_count": null,
   "id": "5040ccc3",
   "metadata": {},
   "outputs": [],
   "source": [
    "import dnngior\n",
    "gapfilled_model_complete = dnngior.Gapfill(draftModel = path_to_blautia_model, \n",
    "                                          medium = None, \n",
    "                                          objectiveName = 'bio1')"
   ]
  },
  {
   "cell_type": "markdown",
   "id": "84cf43f5",
   "metadata": {},
   "source": [
    "Make a new object of the gapfilled model"
   ]
  },
  {
   "cell_type": "code",
   "execution_count": null,
   "id": "4ffc1d46",
   "metadata": {},
   "outputs": [],
   "source": [
    "gf_model_compl_med = gapfilled_model_complete.gapfilledModel.copy()"
   ]
  },
  {
   "cell_type": "code",
   "execution_count": null,
   "id": "29a6f1c1",
   "metadata": {},
   "outputs": [],
   "source": [
    "gf_model_compl_med.optimize()"
   ]
  },
  {
   "cell_type": "markdown",
   "id": "5c070ec6",
   "metadata": {},
   "source": [
    "### It's growing!, the growth rate after optimization is : 146.138 mmol/gDW/ hr (Millimoles per gram dry cell weight per hour), the default flux units used in FBA"
   ]
  },
  {
   "cell_type": "markdown",
   "id": "b5bf4563",
   "metadata": {},
   "source": [
    "Now let's see how many and which reactions DNNgior added in order to simulate growth"
   ]
  },
  {
   "cell_type": "code",
   "execution_count": null,
   "id": "3c0acece",
   "metadata": {},
   "outputs": [],
   "source": [
    "print(\"Number of reactions added:\", len(gapfilled_model_complete.added_reactions))\n",
    "print(\"~~\")\n",
    "for reaction in gapfilled_model_complete.added_reactions:\n",
    "    print(gf_model_compl_med.reactions.get_by_id(reaction).name)"
   ]
  },
  {
   "cell_type": "code",
   "execution_count": null,
   "id": "2fd0ca9e",
   "metadata": {},
   "outputs": [],
   "source": [
    "gf_model_compl_med.reactions.get_by_id('EX_cpd15432_e0')"
   ]
  },
  {
   "cell_type": "code",
   "execution_count": null,
   "id": "56d498eb",
   "metadata": {},
   "outputs": [],
   "source": [
    "gf_model_compl_med.reactions.get_by_id('EX_cpd15511_e0')"
   ]
  },
  {
   "cell_type": "markdown",
   "id": "541c5a84",
   "metadata": {},
   "source": [
    "## **GAPFILLING USING A DEFINED MEDIUM**"
   ]
  },
  {
   "cell_type": "markdown",
   "id": "0f760591",
   "metadata": {},
   "source": [
    "First, load the media file containing the composition of the medium"
   ]
  },
  {
   "cell_type": "code",
   "execution_count": null,
   "id": "d9e2d0e6",
   "metadata": {},
   "outputs": [],
   "source": [
    "medium_file_path = 'Nitrogen-Nitrite_media.tsv'"
   ]
  },
  {
   "cell_type": "code",
   "execution_count": null,
   "id": "e9c6cd0c",
   "metadata": {},
   "outputs": [],
   "source": [
    "import pandas as pd\n",
    "new_medium = pd.read_csv(medium_file_path, sep=\"\\t\")\n",
    "new_medium.head()"
   ]
  },
  {
   "cell_type": "markdown",
   "id": "0bb964ba",
   "metadata": {},
   "source": [
    "Let's gapfill our GSMM so it can growth on this medium"
   ]
  },
  {
   "cell_type": "code",
   "execution_count": null,
   "id": "d16c4ca7",
   "metadata": {},
   "outputs": [],
   "source": [
    "gapfill_nitr = dnngior.Gapfill(path_to_blautia_model, medium_file = medium_file_path, objectiveName = 'bio1')"
   ]
  },
  {
   "cell_type": "markdown",
   "id": "55b90bfb",
   "metadata": {},
   "source": [
    "Again, make a new object of the gapfilled model and check if it's growing."
   ]
  },
  {
   "cell_type": "code",
   "execution_count": null,
   "id": "4d21bce5",
   "metadata": {},
   "outputs": [],
   "source": [
    "gf_model_Nit_med = gapfill_nitr.gapfilledModel.copy()\n",
    "gf_model_Nit_med.optimize()"
   ]
  },
  {
   "cell_type": "markdown",
   "id": "27f1dffe",
   "metadata": {},
   "source": [
    "Let's see how many and which reactions DNNgior added in order to simulate growth on the nitrite media"
   ]
  },
  {
   "cell_type": "code",
   "execution_count": null,
   "id": "d26af141",
   "metadata": {},
   "outputs": [],
   "source": [
    "print(\"Number of reactions added:\", len(gapfill_nitr.added_reactions))\n",
    "print(\"~~\")\n",
    "#for reaction in gapfill_nitr.added_reactions[:5]:\n",
    "for reaction in gapfill_nitr.added_reactions:\n",
    "    print(gf_model_Nit_med.reactions.get_by_id(reaction).name)"
   ]
  },
  {
   "cell_type": "markdown",
   "id": "500cbda0",
   "metadata": {},
   "source": []
  }
 ],
 "metadata": {
  "kernelspec": {
   "display_name": "dnngior",
   "language": "python",
   "name": "dnngior"
  },
  "language_info": {
   "codemirror_mode": {
    "name": "ipython",
    "version": 3
   },
   "file_extension": ".py",
   "mimetype": "text/x-python",
   "name": "python",
   "nbconvert_exporter": "python",
   "pygments_lexer": "ipython3",
   "version": "3.10.16"
  }
 },
 "nbformat": 4,
 "nbformat_minor": 5
}
