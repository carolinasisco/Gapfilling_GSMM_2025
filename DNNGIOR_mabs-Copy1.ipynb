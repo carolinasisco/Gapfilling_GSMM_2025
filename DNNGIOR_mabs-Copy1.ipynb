{
 "cells": [
  {
   "cell_type": "markdown",
   "id": "cdca94c4",
   "metadata": {},
   "source": [
    "# Gapfilling with DNNGIOR using a Custom (taxonomy specific) Neural Network"
   ]
  },
  {
   "cell_type": "markdown",
   "id": "183e71ed",
   "metadata": {},
   "source": [
    "By default, DNNgior uses a built-in neural network (NN). But ocasionnally, you will work with some difficult taxa that has especial growth requirements, i.e Actinobacteria. "
   ]
  },
  {
   "cell_type": "markdown",
   "id": "877e01f6",
   "metadata": {},
   "source": [
    "*Mycobacterium abscessus* (or *Mycobacteroides abscessus*, long story!) is a highly antibiotic-resistant mycobacteria that causes severe respiratory, skin and mucosal infections in humans. Mycobacteria are considered growth demanding bacteria that usually require special media to be cultivated in the laboratory. "
   ]
  },
  {
   "cell_type": "markdown",
   "id": "308904e2",
   "metadata": {},
   "source": [
    "In this exercise, we will gapfill a GSMM of *M. abscessus* with a custom NN trained with species of the Phylum Actinobacteria. "
   ]
  },
  {
   "cell_type": "markdown",
   "id": "a63dddb3",
   "metadata": {},
   "source": [
    "Firts, load and inspect the *M. abscessus* GSMM with Cobra (file Mabs.sbml)"
   ]
  },
  {
   "cell_type": "code",
   "execution_count": null,
   "id": "829c79d7",
   "metadata": {},
   "outputs": [],
   "source": [
    "import cobra\n",
    "from cobra.io import read_sbml_model\n",
    "draft_reconstruction = read_sbml_model('/home/carol/Desktop/IA/MeIA/Mabs.sbml')"
   ]
  },
  {
   "cell_type": "code",
   "execution_count": null,
   "id": "795467ae",
   "metadata": {},
   "outputs": [],
   "source": [
    "draft_reconstruction"
   ]
  },
  {
   "cell_type": "code",
   "execution_count": null,
   "id": "efbf7cdb",
   "metadata": {},
   "outputs": [],
   "source": [
    "draft_reconstruction.summary()"
   ]
  },
  {
   "cell_type": "code",
   "execution_count": null,
   "id": "7b0dc97c",
   "metadata": {},
   "outputs": [],
   "source": [
    "draft_reconstruction.optimize()"
   ]
  },
  {
   "cell_type": "code",
   "execution_count": null,
   "id": "70d5a10c",
   "metadata": {},
   "outputs": [],
   "source": [
    "draft_reconstruction.medium"
   ]
  },
  {
   "cell_type": "markdown",
   "id": "95abad58",
   "metadata": {},
   "source": [
    "First, let's gapfill with the DNNgior built-in neural network"
   ]
  },
  {
   "cell_type": "code",
   "execution_count": null,
   "id": "91df6e9f",
   "metadata": {},
   "outputs": [],
   "source": [
    "import os, sys\n",
    "path_to_mabs_model = ('/home/carol/Desktop/IA/MeIA/Mabs.sbml')"
   ]
  },
  {
   "cell_type": "code",
   "execution_count": null,
   "id": "01529d32",
   "metadata": {},
   "outputs": [],
   "source": [
    "import dnngior\n",
    "gapfilled_model_complete = dnngior.Gapfill(draftModel = path_to_mabs_model, \n",
    "                                          medium = None, \n",
    "                                          objectiveName = 'bio1')"
   ]
  },
  {
   "cell_type": "code",
   "execution_count": null,
   "id": "914d1514",
   "metadata": {},
   "outputs": [],
   "source": [
    "gf_model_compl_med = gapfilled_model_complete.gapfilledModel.copy()"
   ]
  },
  {
   "cell_type": "code",
   "execution_count": null,
   "id": "aec85d59",
   "metadata": {},
   "outputs": [],
   "source": [
    "gf_model_compl_med.optimize()"
   ]
  },
  {
   "cell_type": "markdown",
   "id": "0f6a7cda",
   "metadata": {},
   "source": [
    "<div class=\"alert alert-block alert-info\">\n",
    "Notice that before our gapfilling process the growth was 185.74 mmol/gDW/hr, after gapfilling the growth is 252.767 mmol/gDW/hr."
   ]
  },
  {
   "cell_type": "markdown",
   "id": "f5d71ff6",
   "metadata": {},
   "source": [
    "Now, let's see how many reactions were added"
   ]
  },
  {
   "cell_type": "code",
   "execution_count": null,
   "id": "720d2e7e",
   "metadata": {},
   "outputs": [],
   "source": [
    "print(\"Number of reactions added:\", len(gapfilled_model_complete.added_reactions))\n",
    "print(\"~~\")\n",
    "for reaction in gapfilled_model_complete.added_reactions:\n",
    "    print(gf_model_compl_med.reactions.get_by_id(reaction).name)"
   ]
  },
  {
   "cell_type": "markdown",
   "id": "6c0646a3",
   "metadata": {},
   "source": [
    "# **Gapfilling with the custom NN for Actinobacteria**"
   ]
  },
  {
   "cell_type": "code",
   "execution_count": null,
   "id": "046156ca",
   "metadata": {},
   "outputs": [],
   "source": [
    "gapfilled_model_complete_NN_ac = dnngior.Gapfill(draftModel = path_to_mabs_model, trainedNNPath= '/home/carol/Desktop/IA/TUTORIAL_X_MEETING/Phylum_Actinobacteria.npz',\n",
    "                                          medium = None, \n",
    "                                          objectiveName = 'bio1')"
   ]
  },
  {
   "cell_type": "code",
   "execution_count": null,
   "id": "f8c5eb79",
   "metadata": {},
   "outputs": [],
   "source": [
    "gf_model_compl_NN_ac = gapfilled_model_complete_NN_ac.gapfilledModel.copy()"
   ]
  },
  {
   "cell_type": "code",
   "execution_count": null,
   "id": "1a3c9b30",
   "metadata": {},
   "outputs": [],
   "source": [
    "gf_model_compl_NN_ac.optimize()"
   ]
  },
  {
   "cell_type": "markdown",
   "id": "ab51fe55",
   "metadata": {},
   "source": [
    "<div class=\"alert alert-block alert-info\">\n",
    "With the regular NN growth was 252.767 mmol/gDW/hr, with our custom NN growth has increased to 285.976 mmol/gDW/hr!"
   ]
  },
  {
   "cell_type": "markdown",
   "id": "c3686b91",
   "metadata": {},
   "source": [
    "Let's see how many reactions were added now"
   ]
  },
  {
   "cell_type": "code",
   "execution_count": null,
   "id": "d1bba569",
   "metadata": {},
   "outputs": [],
   "source": [
    "print(\"Number of reactions added:\", len(gapfilled_model_complete_NN_ac.added_reactions))\n",
    "print(\"~~\")\n",
    "for reaction in gapfilled_model_complete_NN_ac.added_reactions:\n",
    "    print(gf_model_compl_NN_ac.reactions.get_by_id(reaction).name)"
   ]
  },
  {
   "cell_type": "markdown",
   "id": "901628cd",
   "metadata": {},
   "source": [
    "With the regular NN 16 reactions were added to our GSMM, but with the NN customized for Actinobacteria 4 new reactions were added."
   ]
  },
  {
   "cell_type": "code",
   "execution_count": null,
   "id": "e3987e79",
   "metadata": {},
   "outputs": [],
   "source": []
  }
 ],
 "metadata": {
  "kernelspec": {
   "display_name": "dnngior",
   "language": "python",
   "name": "dnngior"
  },
  "language_info": {
   "codemirror_mode": {
    "name": "ipython",
    "version": 3
   },
   "file_extension": ".py",
   "mimetype": "text/x-python",
   "name": "python",
   "nbconvert_exporter": "python",
   "pygments_lexer": "ipython3",
   "version": "3.10.16"
  }
 },
 "nbformat": 4,
 "nbformat_minor": 5
}
