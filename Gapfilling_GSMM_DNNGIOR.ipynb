{
 "cells": [
  {
   "cell_type": "markdown",
   "id": "c840cf66",
   "metadata": {},
   "source": [
    "GAPFILLING A GENOME SCALE METABOLIC MODEL USING DNNGIOR\n",
    "\n",
    "Short tutorial (adapted from Boer et al. 2024, see below) by Maria Carolina Sisco. "
   ]
  },
  {
   "cell_type": "markdown",
   "id": "bd8464c8",
   "metadata": {},
   "source": [
    "Improving genome-scale metabolic models of incomplete genomes with deep learning\n",
    "Boer et al. 2024. DOI: 10.1016/j.isci.2024.111349"
   ]
  },
  {
   "cell_type": "markdown",
   "id": "5b721ab3",
   "metadata": {},
   "source": [
    "DNNgior: Deep Neural Network Guided Imputation of Reactomes\n",
    "GSMM: Genome Scale Metabolic Model \n",
    "DNNgior uses AI to improve gap-filling by learning from the presence and absence of metabolic reactions across diverse bacterial genomes"
   ]
  },
  {
   "cell_type": "markdown",
   "id": "137ad1b4",
   "metadata": {},
   "source": [
    "INSTALLATION \n",
    "First, we need a Gurobi license, a linear programming solver.\n",
    "1.Register at: https://www.gurobi.com/downloads/gurobi-software/\n",
    "2.Get a free academic named-user-license here: https://www.gurobi.com/features/academic-named-user-license/  *you will need an institutional email*"
   ]
  },
  {
   "cell_type": "code",
   "execution_count": null,
   "id": "5475cb32",
   "metadata": {},
   "outputs": [],
   "source": [
    "#!pip install -i https://pypi.gurobi.com gurobipy"
   ]
  },
  {
   "cell_type": "code",
   "execution_count": null,
   "id": "6e3889e5",
   "metadata": {},
   "outputs": [],
   "source": [
    "#!pip install dnngior"
   ]
  },
  {
   "cell_type": "markdown",
   "id": "8eb59550",
   "metadata": {},
   "source": [
    "GAPFILL USING A COMPLETE MEDIUM\n",
    "In this exercise we will gapfill (adding missing reactions) a GSMM of Blautia, a genus of anaerobic bacteria with probiotic characteristics."
   ]
  },
  {
   "cell_type": "markdown",
   "id": "c6fb5307",
   "metadata": {},
   "source": [
    "Let's explore the GSMM with some basic Cobrapy commands!"
   ]
  },
  {
   "cell_type": "code",
   "execution_count": 3,
   "id": "2192006a",
   "metadata": {},
   "outputs": [
    {
     "name": "stderr",
     "output_type": "stream",
     "text": [
      "'' is not a valid SBML 'SId'.\n"
     ]
    },
    {
     "name": "stdout",
     "output_type": "stream",
     "text": [
      "Set parameter Username\n",
      "Academic license - for non-commercial use only - expires 2026-03-17\n"
     ]
    }
   ],
   "source": [
    "import cobra\n",
    "from cobra.io import read_sbml_model\n",
    "draft_reconstruction = read_sbml_model('bh_ungapfilled_model.sbml')"
   ]
  },
  {
   "cell_type": "code",
   "execution_count": 5,
   "id": "e9b0ce74",
   "metadata": {},
   "outputs": [
    {
     "data": {
      "text/html": [
       "<h3>Objective</h3><p>1.0 bio1 = 0.0</p><h4>Uptake</h4><table border=\"1\" class=\"dataframe\">\n",
       "  <thead>\n",
       "    <tr style=\"text-align: right;\">\n",
       "      <th>Metabolite</th>\n",
       "      <th>Reaction</th>\n",
       "      <th>Flux</th>\n",
       "      <th>C-Number</th>\n",
       "      <th>C-Flux</th>\n",
       "    </tr>\n",
       "  </thead>\n",
       "  <tbody>\n",
       "  </tbody>\n",
       "</table><h4>Secretion</h4><table border=\"1\" class=\"dataframe\">\n",
       "  <thead>\n",
       "    <tr style=\"text-align: right;\">\n",
       "      <th>Metabolite</th>\n",
       "      <th>Reaction</th>\n",
       "      <th>Flux</th>\n",
       "      <th>C-Number</th>\n",
       "      <th>C-Flux</th>\n",
       "    </tr>\n",
       "  </thead>\n",
       "  <tbody>\n",
       "  </tbody>\n",
       "</table>"
      ],
      "text/plain": [
       "<cobra.summary.model_summary.ModelSummary at 0x753638ace1d0>"
      ]
     },
     "execution_count": 5,
     "metadata": {},
     "output_type": "execute_result"
    }
   ],
   "source": [
    "draft_reconstruction.summary()"
   ]
  },
  {
   "cell_type": "markdown",
   "id": "ab993cd0",
   "metadata": {},
   "source": [
    "Notice the objective function (biomass=growth rate). Also, there are no fluxes."
   ]
  },
  {
   "cell_type": "code",
   "execution_count": 6,
   "id": "efb67d95",
   "metadata": {},
   "outputs": [
    {
     "data": {
      "text/html": [
       "<strong><em>Optimal</em> solution with objective value 0.000</strong><br><div>\n",
       "<style scoped>\n",
       "    .dataframe tbody tr th:only-of-type {\n",
       "        vertical-align: middle;\n",
       "    }\n",
       "\n",
       "    .dataframe tbody tr th {\n",
       "        vertical-align: top;\n",
       "    }\n",
       "\n",
       "    .dataframe thead th {\n",
       "        text-align: right;\n",
       "    }\n",
       "</style>\n",
       "<table border=\"1\" class=\"dataframe\">\n",
       "  <thead>\n",
       "    <tr style=\"text-align: right;\">\n",
       "      <th></th>\n",
       "      <th>fluxes</th>\n",
       "      <th>reduced_costs</th>\n",
       "    </tr>\n",
       "  </thead>\n",
       "  <tbody>\n",
       "    <tr>\n",
       "      <th>rxn02201_c0</th>\n",
       "      <td>0.0</td>\n",
       "      <td>0.0</td>\n",
       "    </tr>\n",
       "    <tr>\n",
       "      <th>rxn00351_c0</th>\n",
       "      <td>0.0</td>\n",
       "      <td>0.0</td>\n",
       "    </tr>\n",
       "    <tr>\n",
       "      <th>rxn00836_c0</th>\n",
       "      <td>0.0</td>\n",
       "      <td>0.0</td>\n",
       "    </tr>\n",
       "    <tr>\n",
       "      <th>rxn05318_c0</th>\n",
       "      <td>0.0</td>\n",
       "      <td>-0.0</td>\n",
       "    </tr>\n",
       "    <tr>\n",
       "      <th>rxn01094_c0</th>\n",
       "      <td>0.0</td>\n",
       "      <td>0.0</td>\n",
       "    </tr>\n",
       "    <tr>\n",
       "      <th>...</th>\n",
       "      <td>...</td>\n",
       "      <td>...</td>\n",
       "    </tr>\n",
       "    <tr>\n",
       "      <th>SK_cpd02701_c0</th>\n",
       "      <td>0.0</td>\n",
       "      <td>0.0</td>\n",
       "    </tr>\n",
       "    <tr>\n",
       "      <th>SK_cpd11416_c0</th>\n",
       "      <td>0.0</td>\n",
       "      <td>0.0</td>\n",
       "    </tr>\n",
       "    <tr>\n",
       "      <th>SK_cpd15302_c0</th>\n",
       "      <td>0.0</td>\n",
       "      <td>0.0</td>\n",
       "    </tr>\n",
       "    <tr>\n",
       "      <th>SK_cpd03091_c0</th>\n",
       "      <td>0.0</td>\n",
       "      <td>0.0</td>\n",
       "    </tr>\n",
       "    <tr>\n",
       "      <th>SK_cpd01042_c0</th>\n",
       "      <td>0.0</td>\n",
       "      <td>0.0</td>\n",
       "    </tr>\n",
       "  </tbody>\n",
       "</table>\n",
       "<p>1656 rows × 2 columns</p>\n",
       "</div>"
      ],
      "text/plain": [
       "<Solution 0.000 at 0x75363878d210>"
      ]
     },
     "execution_count": 6,
     "metadata": {},
     "output_type": "execute_result"
    }
   ],
   "source": [
    "draft_reconstruction.optimize()"
   ]
  },
  {
   "cell_type": "code",
   "execution_count": 8,
   "id": "4951ef79",
   "metadata": {},
   "outputs": [
    {
     "data": {
      "text/plain": [
       "{'EX_cpd00067_e0': 1000.0,\n",
       " 'EX_cpd00182_e0': 1000.0,\n",
       " 'EX_cpd00106_e0': 1000.0,\n",
       " 'EX_cpd00075_e0': 1000.0,\n",
       " 'EX_cpd00064_e0': 1000.0,\n",
       " 'EX_cpd00108_e0': 1000.0,\n",
       " 'EX_cpd00036_e0': 1000.0,\n",
       " 'EX_cpd11576_e0': 1000.0,\n",
       " 'EX_cpd04097_e0': 1000.0,\n",
       " 'EX_cpd00033_e0': 1000.0,\n",
       " 'EX_cpd00412_e0': 1000.0,\n",
       " 'EX_cpd00012_e0': 1000.0,\n",
       " 'EX_cpd00118_e0': 1000.0,\n",
       " 'EX_cpd01030_e0': 1000.0,\n",
       " 'EX_cpd00161_e0': 1000.0,\n",
       " 'EX_cpd00129_e0': 1000.0,\n",
       " 'EX_cpd00971_e0': 1000.0,\n",
       " 'EX_cpd01012_e0': 1000.0,\n",
       " 'EX_cpd00635_e0': 1000.0,\n",
       " 'EX_cpd00039_e0': 1000.0,\n",
       " 'EX_cpd01155_e0': 1000.0,\n",
       " 'EX_cpd00246_e0': 1000.0,\n",
       " 'EX_cpd00020_e0': 1000.0,\n",
       " 'EX_cpd00276_e0': 1000.0,\n",
       " 'EX_cpd00082_e0': 1000.0,\n",
       " 'EX_cpd00080_e0': 1000.0,\n",
       " 'EX_cpd00023_e0': 1000.0,\n",
       " 'EX_cpd15560_e0': 1000.0,\n",
       " 'EX_cpd15561_e0': 1000.0,\n",
       " 'EX_cpd00367_e0': 1000.0,\n",
       " 'EX_cpd00063_e0': 1000.0,\n",
       " 'EX_cpd00058_e0': 1000.0,\n",
       " 'EX_cpd00107_e0': 1000.0,\n",
       " 'EX_cpd00573_e0': 1000.0,\n",
       " 'EX_cpd00184_e0': 1000.0,\n",
       " 'EX_cpd00224_e0': 1000.0,\n",
       " 'EX_cpd00314_e0': 1000.0,\n",
       " 'EX_cpd01017_e0': 1000.0,\n",
       " 'EX_cpd00797_e0': 1000.0,\n",
       " 'EX_cpd00222_e0': 1000.0,\n",
       " 'EX_cpd00013_e0': 1000.0,\n",
       " 'EX_cpd01217_e0': 1000.0,\n",
       " 'EX_cpd00051_e0': 1000.0,\n",
       " 'EX_cpd00244_e0': 1000.0,\n",
       " 'EX_cpd00179_e0': 1000.0,\n",
       " 'EX_cpd00205_e0': 1000.0,\n",
       " 'EX_cpd00355_e0': 1000.0,\n",
       " 'EX_cpd00100_e0': 1000.0,\n",
       " 'EX_cpd00009_e0': 1000.0,\n",
       " 'EX_cpd00281_e0': 1000.0,\n",
       " 'EX_cpd00079_e0': 1000.0,\n",
       " 'EX_cpd00060_e0': 1000.0,\n",
       " 'EX_cpd00438_e0': 1000.0,\n",
       " 'EX_cpd00034_e0': 1000.0,\n",
       " 'EX_cpd00249_e0': 1000.0,\n",
       " 'EX_cpd00214_e0': 1000.0,\n",
       " 'EX_cpd00119_e0': 1000.0,\n",
       " 'EX_cpd00027_e0': 1000.0,\n",
       " 'EX_cpd00654_e0': 1000.0,\n",
       " 'EX_cpd00076_e0': 1000.0,\n",
       " 'EX_cpd03198_e0': 1000.0,\n",
       " 'EX_cpd01171_e0': 1000.0,\n",
       " 'EX_cpd00176_e0': 1000.0,\n",
       " 'EX_cpd00550_e0': 1000.0,\n",
       " 'EX_cpd00264_e0': 1000.0,\n",
       " 'EX_cpd00054_e0': 1000.0,\n",
       " 'EX_cpd00644_e0': 1000.0,\n",
       " 'EX_cpd00029_e0': 1000.0,\n",
       " 'EX_cpd03724_e0': 1000.0,\n",
       " 'EX_cpd00637_e0': 1000.0,\n",
       " 'EX_cpd00041_e0': 1000.0,\n",
       " 'EX_cpd00122_e0': 1000.0,\n",
       " 'EX_cpd00035_e0': 1000.0,\n",
       " 'EX_cpd15603_e0': 1000.0,\n",
       " 'EX_cpd03696_e0': 1000.0,\n",
       " 'EX_cpd00277_e0': 1000.0,\n",
       " 'EX_cpd00164_e0': 1000.0,\n",
       " 'EX_cpd00309_e0': 1000.0,\n",
       " 'EX_cpd00132_e0': 1000.0,\n",
       " 'EX_cpd01092_e0': 1000.0,\n",
       " 'EX_cpd03343_e0': 1000.0,\n",
       " 'EX_cpd03279_e0': 1000.0,\n",
       " 'EX_cpd01262_e0': 1000.0,\n",
       " 'EX_cpd00588_e0': 1000.0,\n",
       " 'EX_cpd00280_e0': 1000.0,\n",
       " 'EX_cpd00028_e0': 1000.0,\n",
       " 'EX_cpd00117_e0': 1000.0,\n",
       " 'EX_cpd00307_e0': 1000.0,\n",
       " 'EX_cpd00130_e0': 1000.0,\n",
       " 'EX_cpd00138_e0': 1000.0,\n",
       " 'EX_cpd10515_e0': 1000.0,\n",
       " 'EX_cpd00159_e0': 1000.0,\n",
       " 'EX_cpd00540_e0': 1000.0,\n",
       " 'EX_cpd00065_e0': 1000.0,\n",
       " 'EX_cpd00047_e0': 1000.0,\n",
       " 'EX_cpd00048_e0': 1000.0,\n",
       " 'EX_cpd00149_e0': 1000.0,\n",
       " 'EX_cpd03847_e0': 1000.0,\n",
       " 'EX_cpd00609_e0': 1000.0,\n",
       " 'EX_cpd00030_e0': 1000.0,\n",
       " 'EX_cpd00311_e0': 1000.0,\n",
       " 'EX_cpd01914_e0': 1000.0,\n",
       " 'EX_cpd00099_e0': 1000.0,\n",
       " 'EX_cpd00024_e0': 1000.0,\n",
       " 'EX_cpd00531_e0': 1000.0,\n",
       " 'EX_cpd00162_e0': 1000.0,\n",
       " 'EX_cpd00386_e0': 1000.0,\n",
       " 'EX_cpd00137_e0': 1000.0,\n",
       " 'EX_cpd00209_e0': 1000.0,\n",
       " 'EX_cpd00794_e0': 1000.0,\n",
       " 'EX_cpd00105_e0': 1000.0,\n",
       " 'EX_cpd00226_e0': 1000.0,\n",
       " 'EX_cpd00254_e0': 1000.0,\n",
       " 'EX_cpd00751_e0': 1000.0,\n",
       " 'EX_cpd00268_e0': 1000.0,\n",
       " 'EX_cpd01329_e0': 1000.0,\n",
       " 'EX_cpd00069_e0': 1000.0,\n",
       " 'EX_cpd00322_e0': 1000.0,\n",
       " 'EX_cpd00059_e0': 1000.0,\n",
       " 'EX_cpd03424_e0': 1000.0,\n",
       " 'EX_cpd00092_e0': 1000.0,\n",
       " 'EX_cpd00053_e0': 1000.0,\n",
       " 'EX_cpd00156_e0': 1000.0,\n",
       " 'EX_cpd01080_e0': 1000.0,\n",
       " 'EX_cpd00396_e0': 1000.0,\n",
       " 'EX_cpd00305_e0': 1000.0,\n",
       " 'EX_cpd00066_e0': 1000.0,\n",
       " 'EX_cpd01912_e0': 1000.0,\n",
       " 'EX_cpd00235_e0': 1000.0,\n",
       " 'EX_cpd00266_e0': 1000.0,\n",
       " 'EX_cpd00870_e0': 1000.0,\n",
       " 'EX_cpd00121_e0': 1000.0,\n",
       " 'EX_cpd00128_e0': 1000.0,\n",
       " 'EX_cpd00381_e0': 1000.0,\n",
       " 'EX_cpd00042_e0': 1000.0,\n",
       " 'EX_cpd02233_e0': 1000.0,\n",
       " 'EX_cpd00166_e0': 1000.0,\n",
       " 'EX_cpd00731_e0': 1000.0,\n",
       " 'EX_cpd01157_e0': 1000.0,\n",
       " 'EX_cpd01757_e0': 1000.0,\n",
       " 'EX_cpd00136_e0': 1000.0,\n",
       " 'EX_cpd03453_e0': 1000.0,\n",
       " 'EX_cpd00001_e0': 1000.0,\n",
       " 'EX_cpd10516_e0': 1000.0,\n",
       " 'EX_cpd00007_e0': 1000.0,\n",
       " 'EX_cpd00116_e0': 1000.0,\n",
       " 'EX_cpd00011_e0': 1000.0,\n",
       " 'EX_cpd03726_e0': 1000.0}"
      ]
     },
     "execution_count": 8,
     "metadata": {},
     "output_type": "execute_result"
    }
   ],
   "source": [
    "draft_reconstruction.medium"
   ]
  },
  {
   "cell_type": "markdown",
   "id": "70a8b37a",
   "metadata": {},
   "source": [
    "The exchange reactions (uptake reactions) are set to a unlimited value, there is no constraint regarding what the bacteria can take from the medium, but even so, our model can't simulate growth, why?"
   ]
  },
  {
   "cell_type": "markdown",
   "id": "15e6b319",
   "metadata": {},
   "source": [
    "Let's start gapfilling our model\n",
    "Import the dnngior library and use the Gapfill class to gapfill the reconstruction"
   ]
  },
  {
   "cell_type": "code",
   "execution_count": 9,
   "id": "d40cbf08",
   "metadata": {},
   "outputs": [],
   "source": [
    "import os, sys\n",
    "path_to_blautia_model = (\"bh_ungapfilled_model.sbml\")"
   ]
  },
  {
   "cell_type": "code",
   "execution_count": 10,
   "id": "5040ccc3",
   "metadata": {},
   "outputs": [
    {
     "name": "stderr",
     "output_type": "stream",
     "text": [
      "WARNING: All log messages before absl::InitializeLog() is called are written to STDERR\n",
      "E0000 00:00:1742999174.229698    7129 cuda_dnn.cc:8579] Unable to register cuDNN factory: Attempting to register factory for plugin cuDNN when one has already been registered\n",
      "E0000 00:00:1742999174.276271    7129 cuda_blas.cc:1407] Unable to register cuBLAS factory: Attempting to register factory for plugin cuBLAS when one has already been registered\n",
      "W0000 00:00:1742999174.531863    7129 computation_placer.cc:177] computation placer already registered. Please check linkage and avoid linking the same target more than once.\n",
      "W0000 00:00:1742999174.531892    7129 computation_placer.cc:177] computation placer already registered. Please check linkage and avoid linking the same target more than once.\n",
      "W0000 00:00:1742999174.531895    7129 computation_placer.cc:177] computation placer already registered. Please check linkage and avoid linking the same target more than once.\n",
      "W0000 00:00:1742999174.531896    7129 computation_placer.cc:177] computation placer already registered. Please check linkage and avoid linking the same target more than once.\n",
      "'' is not a valid SBML 'SId'.\n"
     ]
    },
    {
     "name": "stdout",
     "output_type": "stream",
     "text": [
      "WARNING: To enable the NN_Trainer script, you need to install tensorflow <https://www.tensorflow.org/install>\n",
      "The rest of dnngior features can be used without it.\n"
     ]
    },
    {
     "name": "stderr",
     "output_type": "stream",
     "text": [
      "'' is not a valid SBML 'SId'.\n"
     ]
    },
    {
     "name": "stdout",
     "output_type": "stream",
     "text": [
      "Gap-filling database =  ModelSEED\n"
     ]
    },
    {
     "name": "stderr",
     "output_type": "stream",
     "text": [
      "No objective coefficients in model. Unclear what should be optimized\n"
     ]
    },
    {
     "name": "stdout",
     "output_type": "stream",
     "text": [
      "#reactions not found in NN-keys:  155 / 1656\n",
      "Warning for adding constraints: zero or small (< 1e-13) coefficients, ignored\n",
      "Flux through biomass reaction is 1.00000000\n",
      "Flux through biomass reaction is 1.00000000\n",
      "Warning for adding constraints: zero or small (< 1e-13) coefficients, ignored\n",
      "\n",
      "\n",
      " condition is currently:  77488 \n",
      "\n",
      "\n",
      "Warning for adding constraints: zero or small (< 1e-13) coefficients, ignored\n",
      "\n",
      "\n",
      " condition is currently:  38744 \n",
      "\n",
      "\n",
      "Warning for adding constraints: zero or small (< 1e-13) coefficients, ignored\n",
      "\n",
      "\n",
      " condition is currently:  19372 \n",
      "\n",
      "\n",
      "Warning for adding constraints: zero or small (< 1e-13) coefficients, ignored\n",
      "\n",
      "\n",
      " condition is currently:  9686 \n",
      "\n",
      "\n",
      "Warning for adding constraints: zero or small (< 1e-13) coefficients, ignored\n",
      "\n",
      "\n",
      " condition is currently:  4843 \n",
      "\n",
      "\n",
      "Warning for adding constraints: zero or small (< 1e-13) coefficients, ignored\n",
      "\n",
      "\n",
      " condition is currently:  2421 \n",
      "\n",
      "\n",
      "Warning for adding constraints: zero or small (< 1e-13) coefficients, ignored\n",
      "\n",
      "\n",
      " condition is currently:  1210 \n",
      "\n",
      "\n",
      "Warning for adding constraints: zero or small (< 1e-13) coefficients, ignored\n",
      "\n",
      "\n",
      " condition is currently:  605 \n",
      "\n",
      "\n",
      "Warning for adding constraints: zero or small (< 1e-13) coefficients, ignored\n",
      "\n",
      "\n",
      " condition is currently:  302 \n",
      "\n",
      "\n",
      "Warning for adding constraints: zero or small (< 1e-13) coefficients, ignored\n",
      "\n",
      "\n",
      " condition is currently:  151 \n",
      "\n",
      "\n",
      "Warning for adding constraints: zero or small (< 1e-13) coefficients, ignored\n",
      "\n",
      "\n",
      " condition is currently:  75 \n",
      "\n",
      "\n",
      "Warning for adding constraints: zero or small (< 1e-13) coefficients, ignored\n",
      "\n",
      "\n",
      " condition is currently:  37 \n",
      "\n",
      "\n",
      "Warning for adding constraints: zero or small (< 1e-13) coefficients, ignored\n",
      "\n",
      "\n",
      " condition is currently:  18 \n",
      "\n",
      "\n",
      "Warning for adding constraints: zero or small (< 1e-13) coefficients, ignored\n",
      "\n",
      "\n",
      " condition is currently:  9 \n",
      "\n",
      "\n",
      "Warning for adding constraints: zero or small (< 1e-13) coefficients, ignored\n",
      "\n",
      "\n",
      " condition is currently:  4 \n",
      "\n",
      "\n",
      "Warning for adding constraints: zero or small (< 1e-13) coefficients, ignored\n",
      "\n",
      "\n",
      " condition is currently:  2 \n",
      "\n",
      "\n",
      "Warning for adding constraints: zero or small (< 1e-13) coefficients, ignored\n",
      "\n",
      "\n",
      " condition is currently:  1 \n",
      "\n",
      "\n",
      "Objective value is 0.146138.\n",
      "Read LP format model from file /tmp/tmpl5646da7.lp\n",
      "Reading time = 0.01 seconds\n",
      ": 1401 rows, 3344 columns, 14428 nonzeros\n",
      "NN gapfilling added 16 new reactions\n",
      "The NN gapfilled model, comes with 1672 reactions and 1401 metabolites\n"
     ]
    }
   ],
   "source": [
    "import dnngior\n",
    "gapfilled_model_complete = dnngior.Gapfill(draftModel = path_to_blautia_model, \n",
    "                                          medium = None, \n",
    "                                          objectiveName = 'bio1')"
   ]
  },
  {
   "cell_type": "markdown",
   "id": "84cf43f5",
   "metadata": {},
   "source": [
    "Make a new object of the gapfilled model"
   ]
  },
  {
   "cell_type": "code",
   "execution_count": 11,
   "id": "4ffc1d46",
   "metadata": {},
   "outputs": [
    {
     "name": "stdout",
     "output_type": "stream",
     "text": [
      "Read LP format model from file /tmp/tmpv6wwblry.lp\n",
      "Reading time = 0.01 seconds\n",
      ": 1401 rows, 3344 columns, 14428 nonzeros\n"
     ]
    }
   ],
   "source": [
    "gf_model_compl_med = gapfilled_model_complete.gapfilledModel.copy()"
   ]
  },
  {
   "cell_type": "code",
   "execution_count": 12,
   "id": "29a6f1c1",
   "metadata": {},
   "outputs": [
    {
     "data": {
      "text/html": [
       "<strong><em>Optimal</em> solution with objective value 146.138</strong><br><div>\n",
       "<style scoped>\n",
       "    .dataframe tbody tr th:only-of-type {\n",
       "        vertical-align: middle;\n",
       "    }\n",
       "\n",
       "    .dataframe tbody tr th {\n",
       "        vertical-align: top;\n",
       "    }\n",
       "\n",
       "    .dataframe thead th {\n",
       "        text-align: right;\n",
       "    }\n",
       "</style>\n",
       "<table border=\"1\" class=\"dataframe\">\n",
       "  <thead>\n",
       "    <tr style=\"text-align: right;\">\n",
       "      <th></th>\n",
       "      <th>fluxes</th>\n",
       "      <th>reduced_costs</th>\n",
       "    </tr>\n",
       "  </thead>\n",
       "  <tbody>\n",
       "    <tr>\n",
       "      <th>rxn00459_c0</th>\n",
       "      <td>1000.00000</td>\n",
       "      <td>0.000000e+00</td>\n",
       "    </tr>\n",
       "    <tr>\n",
       "      <th>EX_cpd00136_e0</th>\n",
       "      <td>-1.88534</td>\n",
       "      <td>0.000000e+00</td>\n",
       "    </tr>\n",
       "    <tr>\n",
       "      <th>rxn05349_c0</th>\n",
       "      <td>0.00000</td>\n",
       "      <td>0.000000e+00</td>\n",
       "    </tr>\n",
       "    <tr>\n",
       "      <th>rxn05252_c0</th>\n",
       "      <td>0.00000</td>\n",
       "      <td>-1.387779e-17</td>\n",
       "    </tr>\n",
       "    <tr>\n",
       "      <th>rxn01602_c0</th>\n",
       "      <td>0.00000</td>\n",
       "      <td>-0.000000e+00</td>\n",
       "    </tr>\n",
       "    <tr>\n",
       "      <th>...</th>\n",
       "      <td>...</td>\n",
       "      <td>...</td>\n",
       "    </tr>\n",
       "    <tr>\n",
       "      <th>rxn01997_c0</th>\n",
       "      <td>0.00000</td>\n",
       "      <td>0.000000e+00</td>\n",
       "    </tr>\n",
       "    <tr>\n",
       "      <th>rxn10506_c0</th>\n",
       "      <td>0.00000</td>\n",
       "      <td>0.000000e+00</td>\n",
       "    </tr>\n",
       "    <tr>\n",
       "      <th>rxn05343_c0</th>\n",
       "      <td>0.00000</td>\n",
       "      <td>0.000000e+00</td>\n",
       "    </tr>\n",
       "    <tr>\n",
       "      <th>rxn07965_c0</th>\n",
       "      <td>0.00000</td>\n",
       "      <td>6.938894e-18</td>\n",
       "    </tr>\n",
       "    <tr>\n",
       "      <th>rxn01883_c0</th>\n",
       "      <td>0.00000</td>\n",
       "      <td>0.000000e+00</td>\n",
       "    </tr>\n",
       "  </tbody>\n",
       "</table>\n",
       "<p>1672 rows × 2 columns</p>\n",
       "</div>"
      ],
      "text/plain": [
       "<Solution 146.138 at 0x75363878dab0>"
      ]
     },
     "execution_count": 12,
     "metadata": {},
     "output_type": "execute_result"
    }
   ],
   "source": [
    "gf_model_compl_med.optimize()"
   ]
  },
  {
   "cell_type": "markdown",
   "id": "5c070ec6",
   "metadata": {},
   "source": [
    "#It's growing!, the growth rate after optimization is : 146.138 mmol gDW−1 hr−1 *Millimoles per gram dry cell weight per hour, the default flux units used in FBA"
   ]
  },
  {
   "cell_type": "markdown",
   "id": "b5bf4563",
   "metadata": {},
   "source": [
    "Now let's see how many and which reactions DNNgior added in order to simulate growth"
   ]
  },
  {
   "cell_type": "code",
   "execution_count": 15,
   "id": "3c0acece",
   "metadata": {},
   "outputs": [
    {
     "name": "stdout",
     "output_type": "stream",
     "text": [
      "Number of reactions added: 16\n",
      "~~\n",
      "\n",
      "EX_cpd15432_e0\n",
      "core oligosaccharide lipid A transport via vector (periplasm to extracellular)\n",
      "stearoyl-cardiolipin synthase\n",
      "S-adenosyl-L-methione:demethylmenaquinone methyltransferase\n",
      "-\n",
      "acyl-CoA:malonyl-CoA C-acyltransferase (decarboxylating, oxoacyl-\n",
      "EX_cpd15511_e0\n",
      "2-Amino-4-hydroxy-6-(erythro-1,2,3-trihydroxypropyl) dihydropteridine triphosphate phosphohydrolase (alkaline optimum)\n",
      "all-trans-polyprenyl diphosphate:1,4-dihydroxy-2-naphthoate polyprenyltransferase\n",
      "R_R05617_c\n",
      "acyl-CoA:malonyl-CoA C-acyltransferase (decarboxylating, oxoacyl- and enoyl-reducing, thioester-hydrolysing)\n",
      "glycine/sarcosine/dimethylglycine N-methyltransferase\n",
      "murein polymerizing transglycosylase\n",
      "EX_cpd02229_e0\n",
      "glycolaldehyde:NAD+ oxidoreductase\n"
     ]
    }
   ],
   "source": [
    "print(\"Number of reactions added:\", len(gapfilled_model_complete.added_reactions))\n",
    "print(\"~~\")\n",
    "for reaction in gapfilled_model_complete.added_reactions:\n",
    "    print(gf_model_compl_med.reactions.get_by_id(reaction).name)"
   ]
  },
  {
   "cell_type": "code",
   "execution_count": 16,
   "id": "2fd0ca9e",
   "metadata": {},
   "outputs": [
    {
     "data": {
      "text/html": [
       "\n",
       "        <table>\n",
       "            <tr>\n",
       "                <td><strong>Reaction identifier</strong></td><td>EX_cpd15432_e0</td>\n",
       "            </tr><tr>\n",
       "                <td><strong>Name</strong></td><td>EX_cpd15432_e0</td>\n",
       "            </tr><tr>\n",
       "                <td><strong>Memory address</strong></td>\n",
       "                <td>0x07535c6501a80</td>\n",
       "            </tr><tr>\n",
       "                <td><strong>Stoichiometry</strong></td>\n",
       "                <td>\n",
       "                    <p style='text-align:right'>cpd15432_e0 <=></p>\n",
       "                    <p style='text-align:right'>core oligosaccharide lipid A_e0 <=></p>\n",
       "                </td>\n",
       "            </tr><tr>\n",
       "                <td><strong>GPR</strong></td><td></td>\n",
       "            </tr><tr>\n",
       "                <td><strong>Lower bound</strong></td><td>-1000.0</td>\n",
       "            </tr><tr>\n",
       "                <td><strong>Upper bound</strong></td><td>1000.0</td>\n",
       "            </tr>\n",
       "        </table>\n",
       "        "
      ],
      "text/plain": [
       "<Reaction EX_cpd15432_e0 at 0x7535c6501a80>"
      ]
     },
     "execution_count": 16,
     "metadata": {},
     "output_type": "execute_result"
    }
   ],
   "source": [
    "gf_model_compl_med.reactions.get_by_id('EX_cpd15432_e0')"
   ]
  },
  {
   "cell_type": "code",
   "execution_count": 17,
   "id": "56d498eb",
   "metadata": {},
   "outputs": [
    {
     "data": {
      "text/html": [
       "\n",
       "        <table>\n",
       "            <tr>\n",
       "                <td><strong>Reaction identifier</strong></td><td>EX_cpd15511_e0</td>\n",
       "            </tr><tr>\n",
       "                <td><strong>Name</strong></td><td>EX_cpd15511_e0</td>\n",
       "            </tr><tr>\n",
       "                <td><strong>Memory address</strong></td>\n",
       "                <td>0x07535ca67cf40</td>\n",
       "            </tr><tr>\n",
       "                <td><strong>Stoichiometry</strong></td>\n",
       "                <td>\n",
       "                    <p style='text-align:right'>cpd15511_e0 <=></p>\n",
       "                    <p style='text-align:right'>two linked disacharide pentapeptide murein units (uncrosslinked, middle of chain)_e0 <=></p>\n",
       "                </td>\n",
       "            </tr><tr>\n",
       "                <td><strong>GPR</strong></td><td></td>\n",
       "            </tr><tr>\n",
       "                <td><strong>Lower bound</strong></td><td>-1000.0</td>\n",
       "            </tr><tr>\n",
       "                <td><strong>Upper bound</strong></td><td>1000.0</td>\n",
       "            </tr>\n",
       "        </table>\n",
       "        "
      ],
      "text/plain": [
       "<Reaction EX_cpd15511_e0 at 0x7535ca67cf40>"
      ]
     },
     "execution_count": 17,
     "metadata": {},
     "output_type": "execute_result"
    }
   ],
   "source": [
    "gf_model_compl_med.reactions.get_by_id('EX_cpd15511_e0')"
   ]
  },
  {
   "cell_type": "markdown",
   "id": "541c5a84",
   "metadata": {},
   "source": [
    "GAPFILL USING A DEFINED MEDIUM"
   ]
  },
  {
   "cell_type": "markdown",
   "id": "0f760591",
   "metadata": {},
   "source": [
    "First, load the media file containing the composition of the medium"
   ]
  },
  {
   "cell_type": "code",
   "execution_count": 19,
   "id": "d9e2d0e6",
   "metadata": {},
   "outputs": [],
   "source": [
    "medium_file_path = 'Nitrogen-Nitrite_media.tsv'"
   ]
  },
  {
   "cell_type": "code",
   "execution_count": 20,
   "id": "e9c6cd0c",
   "metadata": {},
   "outputs": [
    {
     "data": {
      "text/html": [
       "<div>\n",
       "<style scoped>\n",
       "    .dataframe tbody tr th:only-of-type {\n",
       "        vertical-align: middle;\n",
       "    }\n",
       "\n",
       "    .dataframe tbody tr th {\n",
       "        vertical-align: top;\n",
       "    }\n",
       "\n",
       "    .dataframe thead th {\n",
       "        text-align: right;\n",
       "    }\n",
       "</style>\n",
       "<table border=\"1\" class=\"dataframe\">\n",
       "  <thead>\n",
       "    <tr style=\"text-align: right;\">\n",
       "      <th></th>\n",
       "      <th>id</th>\n",
       "      <th>name</th>\n",
       "      <th>concentration</th>\n",
       "      <th>minflux</th>\n",
       "      <th>maxflux</th>\n",
       "    </tr>\n",
       "  </thead>\n",
       "  <tbody>\n",
       "    <tr>\n",
       "      <th>0</th>\n",
       "      <td>cpd00027</td>\n",
       "      <td>D-Glucose</td>\n",
       "      <td>0.001</td>\n",
       "      <td>-100</td>\n",
       "      <td>5</td>\n",
       "    </tr>\n",
       "    <tr>\n",
       "      <th>1</th>\n",
       "      <td>cpd00075</td>\n",
       "      <td>Nitrite</td>\n",
       "      <td>0.001</td>\n",
       "      <td>-100</td>\n",
       "      <td>5</td>\n",
       "    </tr>\n",
       "    <tr>\n",
       "      <th>2</th>\n",
       "      <td>cpd00009</td>\n",
       "      <td>Phosphate</td>\n",
       "      <td>0.001</td>\n",
       "      <td>-100</td>\n",
       "      <td>5</td>\n",
       "    </tr>\n",
       "    <tr>\n",
       "      <th>3</th>\n",
       "      <td>cpd00048</td>\n",
       "      <td>Sulfate</td>\n",
       "      <td>0.001</td>\n",
       "      <td>-100</td>\n",
       "      <td>5</td>\n",
       "    </tr>\n",
       "    <tr>\n",
       "      <th>4</th>\n",
       "      <td>cpd00063</td>\n",
       "      <td>Ca2+</td>\n",
       "      <td>0.001</td>\n",
       "      <td>-100</td>\n",
       "      <td>100</td>\n",
       "    </tr>\n",
       "  </tbody>\n",
       "</table>\n",
       "</div>"
      ],
      "text/plain": [
       "         id       name  concentration  minflux  maxflux\n",
       "0  cpd00027  D-Glucose          0.001     -100        5\n",
       "1  cpd00075    Nitrite          0.001     -100        5\n",
       "2  cpd00009  Phosphate          0.001     -100        5\n",
       "3  cpd00048    Sulfate          0.001     -100        5\n",
       "4  cpd00063       Ca2+          0.001     -100      100"
      ]
     },
     "execution_count": 20,
     "metadata": {},
     "output_type": "execute_result"
    }
   ],
   "source": [
    "import pandas as pd\n",
    "new_medium = pd.read_csv(medium_file_path, sep=\"\\t\")\n",
    "new_medium.head()"
   ]
  },
  {
   "cell_type": "markdown",
   "id": "0bb964ba",
   "metadata": {},
   "source": [
    "Let's gapfill our GSMM so it can growth on this medium"
   ]
  },
  {
   "cell_type": "code",
   "execution_count": 21,
   "id": "d16c4ca7",
   "metadata": {},
   "outputs": [
    {
     "name": "stderr",
     "output_type": "stream",
     "text": [
      "'' is not a valid SBML 'SId'.\n",
      "'' is not a valid SBML 'SId'.\n"
     ]
    },
    {
     "name": "stdout",
     "output_type": "stream",
     "text": [
      "Gap-filling database =  ModelSEED\n"
     ]
    },
    {
     "name": "stderr",
     "output_type": "stream",
     "text": [
      "No objective coefficients in model. Unclear what should be optimized\n"
     ]
    },
    {
     "name": "stdout",
     "output_type": "stream",
     "text": [
      "Loading medium from: Nitrogen-Nitrite_media.tsv\n",
      "#reactions not found in NN-keys:  7 / 1508\n",
      "Warning for adding constraints: zero or small (< 1e-13) coefficients, ignored\n",
      "Flux through biomass reaction is 1.00000000\n",
      "Flux through biomass reaction is 1.00000000\n",
      "Warning for adding constraints: zero or small (< 1e-13) coefficients, ignored\n",
      "\n",
      "\n",
      " condition is currently:  75420 \n",
      "\n",
      "\n",
      "Warning for adding constraints: zero or small (< 1e-13) coefficients, ignored\n",
      "\n",
      "\n",
      " condition is currently:  37710 \n",
      "\n",
      "\n",
      "Warning for adding constraints: zero or small (< 1e-13) coefficients, ignored\n",
      "\n",
      "\n",
      " condition is currently:  18855 \n",
      "\n",
      "\n",
      "Warning for adding constraints: zero or small (< 1e-13) coefficients, ignored\n",
      "\n",
      "\n",
      " condition is currently:  9427 \n",
      "\n",
      "\n",
      "Warning for adding constraints: zero or small (< 1e-13) coefficients, ignored\n",
      "\n",
      "\n",
      " condition is currently:  4713 \n",
      "\n",
      "\n",
      "Warning for adding constraints: zero or small (< 1e-13) coefficients, ignored\n",
      "\n",
      "\n",
      " condition is currently:  2356 \n",
      "\n",
      "\n",
      "Warning for adding constraints: zero or small (< 1e-13) coefficients, ignored\n",
      "\n",
      "\n",
      " condition is currently:  1178 \n",
      "\n",
      "\n",
      "Warning for adding constraints: zero or small (< 1e-13) coefficients, ignored\n",
      "\n",
      "\n",
      " condition is currently:  589 \n",
      "\n",
      "\n",
      "Warning for adding constraints: zero or small (< 1e-13) coefficients, ignored\n",
      "\n",
      "\n",
      " condition is currently:  294 \n",
      "\n",
      "\n",
      "Warning for adding constraints: zero or small (< 1e-13) coefficients, ignored\n",
      "\n",
      "\n",
      " condition is currently:  147 \n",
      "\n",
      "\n",
      "Warning for adding constraints: zero or small (< 1e-13) coefficients, ignored\n",
      "\n",
      "\n",
      " condition is currently:  73 \n",
      "\n",
      "\n",
      "Warning for adding constraints: zero or small (< 1e-13) coefficients, ignored\n",
      "\n",
      "\n",
      " condition is currently:  36 \n",
      "\n",
      "\n",
      "Warning for adding constraints: zero or small (< 1e-13) coefficients, ignored\n",
      "\n",
      "\n",
      " condition is currently:  18 \n",
      "\n",
      "\n",
      "Warning for adding constraints: zero or small (< 1e-13) coefficients, ignored\n",
      "\n",
      "\n",
      " condition is currently:  9 \n",
      "\n",
      "\n",
      "Warning for adding constraints: zero or small (< 1e-13) coefficients, ignored\n",
      "\n",
      "\n",
      " condition is currently:  4 \n",
      "\n",
      "\n",
      "Warning for adding constraints: zero or small (< 1e-13) coefficients, ignored\n",
      "\n",
      "\n",
      " condition is currently:  2 \n",
      "\n",
      "\n",
      "Warning for adding constraints: zero or small (< 1e-13) coefficients, ignored\n",
      "\n",
      "\n",
      " condition is currently:  1 \n",
      "\n",
      "\n",
      "Objective value is 0.097034.\n",
      "Read LP format model from file /tmp/tmpq117ndor.lp\n",
      "Reading time = 0.01 seconds\n",
      ": 1423 rows, 3170 columns, 14782 nonzeros\n",
      "NN gapfilling added 77 new reactions\n",
      "The NN gapfilled model, comes with 1585 reactions and 1423 metabolites\n"
     ]
    }
   ],
   "source": [
    "gapfill_nitr = dnngior.Gapfill(path_to_blautia_model, medium_file = medium_file_path, objectiveName = 'bio1')"
   ]
  },
  {
   "cell_type": "markdown",
   "id": "55b90bfb",
   "metadata": {},
   "source": [
    "Again, make a new object of the gapfilled model and check if it's growing."
   ]
  },
  {
   "cell_type": "code",
   "execution_count": 22,
   "id": "4d21bce5",
   "metadata": {},
   "outputs": [
    {
     "name": "stdout",
     "output_type": "stream",
     "text": [
      "Read LP format model from file /tmp/tmp47a2aamf.lp\n",
      "Reading time = 0.01 seconds\n",
      ": 1423 rows, 3170 columns, 14782 nonzeros\n"
     ]
    },
    {
     "data": {
      "text/html": [
       "<strong><em>Optimal</em> solution with objective value 39.996</strong><br><div>\n",
       "<style scoped>\n",
       "    .dataframe tbody tr th:only-of-type {\n",
       "        vertical-align: middle;\n",
       "    }\n",
       "\n",
       "    .dataframe tbody tr th {\n",
       "        vertical-align: top;\n",
       "    }\n",
       "\n",
       "    .dataframe thead th {\n",
       "        text-align: right;\n",
       "    }\n",
       "</style>\n",
       "<table border=\"1\" class=\"dataframe\">\n",
       "  <thead>\n",
       "    <tr style=\"text-align: right;\">\n",
       "      <th></th>\n",
       "      <th>fluxes</th>\n",
       "      <th>reduced_costs</th>\n",
       "    </tr>\n",
       "  </thead>\n",
       "  <tbody>\n",
       "    <tr>\n",
       "      <th>rxn00459_c0</th>\n",
       "      <td>0.0</td>\n",
       "      <td>0.0</td>\n",
       "    </tr>\n",
       "    <tr>\n",
       "      <th>rxn05349_c0</th>\n",
       "      <td>0.0</td>\n",
       "      <td>0.0</td>\n",
       "    </tr>\n",
       "    <tr>\n",
       "      <th>rxn05252_c0</th>\n",
       "      <td>0.0</td>\n",
       "      <td>0.0</td>\n",
       "    </tr>\n",
       "    <tr>\n",
       "      <th>rxn01602_c0</th>\n",
       "      <td>0.0</td>\n",
       "      <td>0.0</td>\n",
       "    </tr>\n",
       "    <tr>\n",
       "      <th>rxn09203_c0</th>\n",
       "      <td>0.0</td>\n",
       "      <td>0.0</td>\n",
       "    </tr>\n",
       "    <tr>\n",
       "      <th>...</th>\n",
       "      <td>...</td>\n",
       "      <td>...</td>\n",
       "    </tr>\n",
       "    <tr>\n",
       "      <th>rxn01997_c0</th>\n",
       "      <td>0.0</td>\n",
       "      <td>0.0</td>\n",
       "    </tr>\n",
       "    <tr>\n",
       "      <th>rxn10506_c0</th>\n",
       "      <td>0.0</td>\n",
       "      <td>0.0</td>\n",
       "    </tr>\n",
       "    <tr>\n",
       "      <th>rxn05343_c0</th>\n",
       "      <td>0.0</td>\n",
       "      <td>0.0</td>\n",
       "    </tr>\n",
       "    <tr>\n",
       "      <th>rxn07965_c0</th>\n",
       "      <td>0.0</td>\n",
       "      <td>0.0</td>\n",
       "    </tr>\n",
       "    <tr>\n",
       "      <th>rxn01883_c0</th>\n",
       "      <td>0.0</td>\n",
       "      <td>0.0</td>\n",
       "    </tr>\n",
       "  </tbody>\n",
       "</table>\n",
       "<p>1585 rows × 2 columns</p>\n",
       "</div>"
      ],
      "text/plain": [
       "<Solution 39.996 at 0x7535c6a913f0>"
      ]
     },
     "execution_count": 22,
     "metadata": {},
     "output_type": "execute_result"
    }
   ],
   "source": [
    "gf_model_Nit_med = gapfill_nitr.gapfilledModel.copy()\n",
    "gf_model_Nit_med.optimize()"
   ]
  },
  {
   "cell_type": "markdown",
   "id": "27f1dffe",
   "metadata": {},
   "source": [
    "Let's see how many and which reactions DNNgior added in order to simulate growth on the nitrite media"
   ]
  },
  {
   "cell_type": "code",
   "execution_count": 23,
   "id": "d26af141",
   "metadata": {},
   "outputs": [
    {
     "name": "stdout",
     "output_type": "stream",
     "text": [
      "Number of reactions added: 77\n",
      "~~\n",
      "R_L_Glutamate_tRNA_Glu__ligase__AMP_forming_\n",
      "5-Formiminotetrahydrofolate:L-glutamate N-formiminotransferase\n",
      "\n",
      "\n",
      "-\n",
      "\n",
      "acyl-CoA:malonyl-CoA C-acyltransferase (decarboxylating, oxoacyl-\n",
      "\n",
      "Lumped Isoleucine Synthesis\n",
      "L-Cysteine hydrogen-sulfide-lyase (deaminating; pyruvate-forming)\n",
      "biotin-carboxyl-carrier-protein:carbon-dioxide ligase (ADP-forming)\n",
      "dihydrodipicolinate reductase\n",
      "DNA biosynthesis\n",
      "R_Protein_synthesis_c\n",
      "degradation of starch300 by phosphorylase, amylase, dextrinase, maltase (chloroplast), 1:3 glc:g1p (light-dep rxn)\n",
      "thiazole phosphate synthesis (ribose 5-phosphate), yeast-specifc\n",
      "ADP Glucose Pyrophosphorylase\n",
      "Glutamyl-tRNA synthetase, mitochondrial\n",
      "\n",
      "R_Nitrogenous_compound_synthesis_c\n",
      "Phosphatidylethanolamine phosphatidohydrolase\n",
      "Sink needed to allow 4-hydroxy-benzoate to leave system\n",
      "\n",
      "EX_cpd00030_e0\n",
      "\n",
      "EX_cpd15560_e0\n",
      "all-trans-polyprenyl diphosphate:1,4-dihydroxy-2-naphthoate polyprenyltransferase\n",
      "Nitrogenous compounds,NADPH:oxygen oxidoreductase (3-hydroxylating,\n",
      "minor teichoic acid synthesis (n=30)\n",
      "ATP:D-fructose 6-phosphotransferase\n",
      "EX_cpd00149_e0\n",
      "\n",
      "\n",
      "RXNBWI-17.d\n",
      "EX_cpd00034_e0\n",
      "EX_cpd00058_e0\n",
      "S-Adenosyl-L-methionine hydrolase\n",
      "R09048\n",
      "Ferrochelatase, mitochondrial\n",
      "\n",
      "2enoyl-acp reductase (c14:0)\n",
      "stearoyl-cardiolipin synthase\n",
      "S-adenosyl-L-methione:demethylmenaquinone methyltransferase\n",
      "EX_cpd00205_e0\n",
      "thiazole phosphate synthesis\n",
      "R_Nucleic_acid_synthesis_c\n",
      "\n",
      "TECA4S\n",
      "R08421\n",
      "EX_cpd00066_e0\n",
      "Phosphatidylethanolamine 2-acylhydrolase\n",
      "(S)-2-Amino-6-oxohexanoate hydro-lyase (spontaneous)\n",
      "RXN0-5479.c\n",
      "EX_cpd00381_e0\n",
      "5-Formiminotetrahydrofolate ammonia-lyase (cyclizing)\n",
      "\n",
      "R09049\n",
      "glycoprotein-phosphatidylinositol phosphatidohydrolase\n",
      "R_Amioacid_synthesis_c\n",
      "yersiniabactin synthase\n",
      "DNA synthesis\n",
      "EX_cpd15432_e0\n",
      "RXN-11349.c\n",
      "core oligosaccharide lipid A transport via vector (periplasm to extracellular)\n",
      "EX_cpd00063_e0\n",
      "\n",
      "CDP-diacylglycerol--serine O-phosphatidyltransferae, yeast-specific, mitochondrial\n",
      "CDP-diacylglycerol:sn-glycerol-3-phosphate 3-phosphatidyltransferase\n",
      "R_Nicotinate_nucleotide_pyrophosphate_phosphoribosyltransferase__carboxylating_\n",
      "EX_cpd00254_e0\n",
      "R_R05617_c\n",
      "EX_cpd00099_e0\n",
      "Protein synthesis (B. subtilis)\n",
      "acyl-CoA:malonyl-CoA C-acyltransferase (decarboxylating, oxoacyl- and enoyl-reducing, thioester-hydrolysing)\n",
      "pyruvate:pyruvate acetaldehydetransferase (decarboxylating)\n",
      "[poly-N-acetyl-D-glucosaminyl-(1->4)-(N-acetyl-D-muramoylpentapeptide)]-diphosphoundecaprenol:[N-acetyl-D-glucosaminyl-(1->4)-N-acetyl-D-muramoylpentapeptide]-diphosphoundecaprenol polysaccharidetransferase\n",
      "starch synthase (300 glc units) (chloroplast)\n"
     ]
    }
   ],
   "source": [
    "print(\"Number of reactions added:\", len(gapfill_nitr.added_reactions))\n",
    "print(\"~~\")\n",
    "#for reaction in gapfill_nitr.added_reactions[:5]:\n",
    "for reaction in gapfill_nitr.added_reactions:\n",
    "    print(gf_model_Nit_med.reactions.get_by_id(reaction).name)"
   ]
  },
  {
   "cell_type": "markdown",
   "id": "500cbda0",
   "metadata": {},
   "source": [
    "THE END!"
   ]
  }
 ],
 "metadata": {
  "kernelspec": {
   "display_name": "dnngior",
   "language": "python",
   "name": "dnngior"
  },
  "language_info": {
   "codemirror_mode": {
    "name": "ipython",
    "version": 3
   },
   "file_extension": ".py",
   "mimetype": "text/x-python",
   "name": "python",
   "nbconvert_exporter": "python",
   "pygments_lexer": "ipython3",
   "version": "3.10.16"
  }
 },
 "nbformat": 4,
 "nbformat_minor": 5
}
